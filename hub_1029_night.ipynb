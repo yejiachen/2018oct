{
  "nbformat": 4,
  "nbformat_minor": 0,
  "metadata": {
    "colab": {
      "name": "Untitled0.ipynb",
      "version": "0.3.2",
      "provenance": []
    },
    "kernelspec": {
      "name": "python3",
      "display_name": "Python 3"
    },
    "accelerator": "GPU"
  },
  "cells": [
    {
      "metadata": {
        "id": "MIpFtQGwAEJQ",
        "colab_type": "code",
        "colab": {
          "base_uri": "https://localhost:8080/",
          "height": 34
        },
        "outputId": "bb1c3871-1bbe-4c9b-d8e8-2e2b00c56c0e"
      },
      "cell_type": "code",
      "source": [
        "import pandas as pd\n",
        "import numpy as np\n",
        "import datetime as dt\n",
        "import seaborn as sns\n",
        "sns.set()\n",
        "import matplotlib.pyplot as plt\n",
        "from sklearn.preprocessing import StandardScaler, MinMaxScaler\n",
        "\n",
        "import timeit\n",
        "import matplotlib.pyplot as plt\n",
        "%matplotlib inline\n",
        "from sklearn.preprocessing import MinMaxScaler, StandardScaler\n",
        "from sklearn.model_selection import train_test_split\n",
        "\n",
        "from keras import backend as K\n",
        "from keras import optimizers, backend\n",
        "from keras.models import Sequential\n",
        "from keras.layers import Conv1D,Conv2D, Dense, Dropout, Flatten, Activation\n",
        "from keras.models import load_model\n",
        "from keras.layers import RepeatVector, TimeDistributed, LSTM, GRU, Flatten, Bidirectional\n",
        "from keras.layers.advanced_activations import LeakyReLU\n",
        "from keras.callbacks import ModelCheckpoint, EarlyStopping, ReduceLROnPlateau\n",
        "\n",
        "from keras.utils.generic_utils import get_custom_objects\n",
        "\n",
        "from keras.utils.np_utils import to_categorical\n",
        "from keras.optimizers import RMSprop, adam, Nadam"
      ],
      "execution_count": 6,
      "outputs": [
        {
          "output_type": "stream",
          "text": [
            "Using TensorFlow backend.\n"
          ],
          "name": "stderr"
        }
      ]
    },
    {
      "metadata": {
        "id": "eJFXo0x27Yzg",
        "colab_type": "code",
        "colab": {}
      },
      "cell_type": "code",
      "source": [
        "!pip install -q xgboost"
      ],
      "execution_count": 0,
      "outputs": []
    },
    {
      "metadata": {
        "id": "vMLJKOUEAMEX",
        "colab_type": "code",
        "colab": {
          "resources": {
            "http://localhost:8080/nbextensions/google.colab/files.js": {
              "data": "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",
              "ok": true,
              "headers": [
                [
                  "content-type",
                  "application/javascript"
                ]
              ],
              "status": 200,
              "status_text": ""
            }
          },
          "base_uri": "https://localhost:8080/",
          "height": 76
        },
        "outputId": "b3b00817-8b21-4619-e2f7-d289f4d2379a"
      },
      "cell_type": "code",
      "source": [
        "from google.colab import files\n",
        "uploaded = files.upload()"
      ],
      "execution_count": 8,
      "outputs": [
        {
          "output_type": "display_data",
          "data": {
            "text/html": [
              "\n",
              "     <input type=\"file\" id=\"files-6da16c09-be31-471b-9d55-ba5dd4525947\" name=\"files[]\" multiple disabled />\n",
              "     <output id=\"result-6da16c09-be31-471b-9d55-ba5dd4525947\">\n",
              "      Upload widget is only available when the cell has been executed in the\n",
              "      current browser session. Please rerun this cell to enable.\n",
              "      </output>\n",
              "      <script src=\"/nbextensions/google.colab/files.js\"></script> "
            ],
            "text/plain": [
              "<IPython.core.display.HTML object>"
            ]
          },
          "metadata": {
            "tags": []
          }
        },
        {
          "output_type": "stream",
          "text": [
            "Saving all_by_week.csv to all_by_week.csv\n"
          ],
          "name": "stdout"
        }
      ]
    },
    {
      "metadata": {
        "id": "6ed7FVl_AUsF",
        "colab_type": "code",
        "colab": {}
      },
      "cell_type": "code",
      "source": [
        "df_week = pd.read_csv(\"all_by_week.csv\").set_index(\"week_firstday\")\n",
        "df_base = df_week/df_week[df_week !=0].min(axis=0)\n",
        "#df_base = df_week/df_week[df_week !=0].quantile(0.20,axis=0)"
      ],
      "execution_count": 0,
      "outputs": []
    },
    {
      "metadata": {
        "id": "bykWMu-wAdHC",
        "colab_type": "code",
        "colab": {
          "base_uri": "https://localhost:8080/",
          "height": 232
        },
        "outputId": "565fbf4f-3c34-4890-a22f-1b79484618be"
      },
      "cell_type": "code",
      "source": [
        "df = pd.DataFrame(df_base[\"AO6402AL\"])\n",
        "df.columns = [\"call_off\"]\n",
        "df[\"zero\"] = \"\"\n",
        "df.head()"
      ],
      "execution_count": 10,
      "outputs": [
        {
          "output_type": "execute_result",
          "data": {
            "text/html": [
              "<div>\n",
              "<style scoped>\n",
              "    .dataframe tbody tr th:only-of-type {\n",
              "        vertical-align: middle;\n",
              "    }\n",
              "\n",
              "    .dataframe tbody tr th {\n",
              "        vertical-align: top;\n",
              "    }\n",
              "\n",
              "    .dataframe thead th {\n",
              "        text-align: right;\n",
              "    }\n",
              "</style>\n",
              "<table border=\"1\" class=\"dataframe\">\n",
              "  <thead>\n",
              "    <tr style=\"text-align: right;\">\n",
              "      <th></th>\n",
              "      <th>call_off</th>\n",
              "      <th>zero</th>\n",
              "    </tr>\n",
              "    <tr>\n",
              "      <th>week_firstday</th>\n",
              "      <th></th>\n",
              "      <th></th>\n",
              "    </tr>\n",
              "  </thead>\n",
              "  <tbody>\n",
              "    <tr>\n",
              "      <th>2015-03-30</th>\n",
              "      <td>22.0</td>\n",
              "      <td></td>\n",
              "    </tr>\n",
              "    <tr>\n",
              "      <th>2015-04-06</th>\n",
              "      <td>32.0</td>\n",
              "      <td></td>\n",
              "    </tr>\n",
              "    <tr>\n",
              "      <th>2015-04-13</th>\n",
              "      <td>0.0</td>\n",
              "      <td></td>\n",
              "    </tr>\n",
              "    <tr>\n",
              "      <th>2015-04-20</th>\n",
              "      <td>0.0</td>\n",
              "      <td></td>\n",
              "    </tr>\n",
              "    <tr>\n",
              "      <th>2015-04-27</th>\n",
              "      <td>22.0</td>\n",
              "      <td></td>\n",
              "    </tr>\n",
              "  </tbody>\n",
              "</table>\n",
              "</div>"
            ],
            "text/plain": [
              "               call_off zero\n",
              "week_firstday               \n",
              "2015-03-30         22.0     \n",
              "2015-04-06         32.0     \n",
              "2015-04-13          0.0     \n",
              "2015-04-20          0.0     \n",
              "2015-04-27         22.0     "
            ]
          },
          "metadata": {
            "tags": []
          },
          "execution_count": 10
        }
      ]
    },
    {
      "metadata": {
        "id": "PDgm1NsgtnTO",
        "colab_type": "code",
        "colab": {}
      },
      "cell_type": "code",
      "source": [
        "for i in range(df.shape[0]):\n",
        "    if int(df.iloc[i,0])>=1:\n",
        "        df.iloc[i,1]=0\n",
        "    elif int(df.iloc[i,0])==0:\n",
        "        df.iloc[i,1]=1"
      ],
      "execution_count": 0,
      "outputs": []
    },
    {
      "metadata": {
        "id": "XWQQQRymuI_v",
        "colab_type": "code",
        "colab": {
          "base_uri": "https://localhost:8080/",
          "height": 446
        },
        "outputId": "d0c65482-f34f-4a07-8075-488c97f3933e"
      },
      "cell_type": "code",
      "source": [
        "df[35:47]"
      ],
      "execution_count": 61,
      "outputs": [
        {
          "output_type": "execute_result",
          "data": {
            "text/html": [
              "<div>\n",
              "<style scoped>\n",
              "    .dataframe tbody tr th:only-of-type {\n",
              "        vertical-align: middle;\n",
              "    }\n",
              "\n",
              "    .dataframe tbody tr th {\n",
              "        vertical-align: top;\n",
              "    }\n",
              "\n",
              "    .dataframe thead th {\n",
              "        text-align: right;\n",
              "    }\n",
              "</style>\n",
              "<table border=\"1\" class=\"dataframe\">\n",
              "  <thead>\n",
              "    <tr style=\"text-align: right;\">\n",
              "      <th></th>\n",
              "      <th>call_off</th>\n",
              "      <th>zero</th>\n",
              "    </tr>\n",
              "    <tr>\n",
              "      <th>week_firstday</th>\n",
              "      <th></th>\n",
              "      <th></th>\n",
              "    </tr>\n",
              "  </thead>\n",
              "  <tbody>\n",
              "    <tr>\n",
              "      <th>2015-11-30</th>\n",
              "      <td>0.0</td>\n",
              "      <td>1</td>\n",
              "    </tr>\n",
              "    <tr>\n",
              "      <th>2015-12-07</th>\n",
              "      <td>3.0</td>\n",
              "      <td>0</td>\n",
              "    </tr>\n",
              "    <tr>\n",
              "      <th>2015-12-14</th>\n",
              "      <td>5.0</td>\n",
              "      <td>0</td>\n",
              "    </tr>\n",
              "    <tr>\n",
              "      <th>2015-12-21</th>\n",
              "      <td>0.0</td>\n",
              "      <td>1</td>\n",
              "    </tr>\n",
              "    <tr>\n",
              "      <th>2015-12-28</th>\n",
              "      <td>1.0</td>\n",
              "      <td>0</td>\n",
              "    </tr>\n",
              "    <tr>\n",
              "      <th>2016-01-04</th>\n",
              "      <td>1.0</td>\n",
              "      <td>0</td>\n",
              "    </tr>\n",
              "    <tr>\n",
              "      <th>2016-01-11</th>\n",
              "      <td>4.0</td>\n",
              "      <td>0</td>\n",
              "    </tr>\n",
              "    <tr>\n",
              "      <th>2016-01-18</th>\n",
              "      <td>3.0</td>\n",
              "      <td>0</td>\n",
              "    </tr>\n",
              "    <tr>\n",
              "      <th>2016-01-25</th>\n",
              "      <td>4.0</td>\n",
              "      <td>0</td>\n",
              "    </tr>\n",
              "    <tr>\n",
              "      <th>2016-02-01</th>\n",
              "      <td>9.0</td>\n",
              "      <td>0</td>\n",
              "    </tr>\n",
              "    <tr>\n",
              "      <th>2016-02-08</th>\n",
              "      <td>1.0</td>\n",
              "      <td>0</td>\n",
              "    </tr>\n",
              "    <tr>\n",
              "      <th>2016-02-15</th>\n",
              "      <td>2.0</td>\n",
              "      <td>0</td>\n",
              "    </tr>\n",
              "  </tbody>\n",
              "</table>\n",
              "</div>"
            ],
            "text/plain": [
              "               call_off  zero\n",
              "week_firstday                \n",
              "2015-11-30          0.0     1\n",
              "2015-12-07          3.0     0\n",
              "2015-12-14          5.0     0\n",
              "2015-12-21          0.0     1\n",
              "2015-12-28          1.0     0\n",
              "2016-01-04          1.0     0\n",
              "2016-01-11          4.0     0\n",
              "2016-01-18          3.0     0\n",
              "2016-01-25          4.0     0\n",
              "2016-02-01          9.0     0\n",
              "2016-02-08          1.0     0\n",
              "2016-02-15          2.0     0"
            ]
          },
          "metadata": {
            "tags": []
          },
          "execution_count": 61
        }
      ]
    },
    {
      "metadata": {
        "id": "IEblQKQtAd3z",
        "colab_type": "code",
        "colab": {
          "base_uri": "https://localhost:8080/",
          "height": 118
        },
        "outputId": "8af3815c-d52f-46c5-df83-21befdccd8f3"
      },
      "cell_type": "code",
      "source": [
        "scaler = MinMaxScaler()\n",
        "train_data = scaler.fit_transform(df)\n",
        "train_data[0:6]"
      ],
      "execution_count": 14,
      "outputs": [
        {
          "output_type": "execute_result",
          "data": {
            "text/plain": [
              "array([[0.42307692, 0.        ],\n",
              "       [0.61538462, 0.        ],\n",
              "       [0.        , 1.        ],\n",
              "       [0.        , 1.        ],\n",
              "       [0.42307692, 0.        ],\n",
              "       [0.19230769, 0.        ]])"
            ]
          },
          "metadata": {
            "tags": []
          },
          "execution_count": 14
        }
      ]
    },
    {
      "metadata": {
        "id": "VCqRhF3BwIFt",
        "colab_type": "code",
        "colab": {}
      },
      "cell_type": "code",
      "source": [
        ""
      ],
      "execution_count": 0,
      "outputs": []
    },
    {
      "metadata": {
        "id": "W-Vbgfokui6K",
        "colab_type": "code",
        "colab": {
          "base_uri": "https://localhost:8080/",
          "height": 50
        },
        "outputId": "46b9926a-c638-4ff1-ea39-b2bf91124dcd"
      },
      "cell_type": "code",
      "source": [
        "window = 30\n",
        "forecast_day = 12\n",
        "training_data_rate = 0.85\n",
        "feature = train_data.shape[1]\n",
        "\n",
        "train_x = np.empty(shape=(0, window, feature))\n",
        "train_y_0 = np.empty(shape=(0, forecast_day))\n",
        "\n",
        "for i in range(len(train_data)-window-forecast_day+1):\n",
        "    train_x = np.vstack((train_x, train_data[np.newaxis, i:(i+window), :]))\n",
        "    train_y_0 = np.vstack((train_y_0, train_data[np.newaxis, (i+window):(i+window+forecast_day), 0]))\n",
        "    # train_y_sum = (np.vstack((train_y, train_data[np.newaxis, (i+window):(i+window+forecast_day), 0]))).tolist() , will overstep train_y shape by 1, due to loop \n",
        "\n",
        "train_y = np.mean(train_y_0, axis=1).reshape(len(train_x),1)\n",
        "    \n",
        "\n",
        "print(\"train_x size: {}\".format(train_x.shape))\n",
        "print(\"train_y size: {}\".format(train_y.shape))    \n"
      ],
      "execution_count": 51,
      "outputs": [
        {
          "output_type": "stream",
          "text": [
            "train_x size: (95, 30, 2)\n",
            "train_y size: (95, 1)\n"
          ],
          "name": "stdout"
        }
      ]
    },
    {
      "metadata": {
        "id": "Akw2ujE08VWb",
        "colab_type": "code",
        "colab": {}
      },
      "cell_type": "code",
      "source": [
        "\n",
        "\n",
        "y = train_y * (scaler.data_max_[0]-scaler.data_min_[0]) + scaler.data_min_[0]"
      ],
      "execution_count": 0,
      "outputs": []
    },
    {
      "metadata": {
        "id": "uj-WcTL1-IcR",
        "colab_type": "code",
        "colab": {
          "base_uri": "https://localhost:8080/",
          "height": 1624
        },
        "outputId": "3673f57e-381e-4297-be57-2254cf78bb0f"
      },
      "cell_type": "code",
      "source": [
        "y"
      ],
      "execution_count": 54,
      "outputs": [
        {
          "output_type": "execute_result",
          "data": {
            "text/plain": [
              "array([[ 2.91666667],\n",
              "       [ 2.91666667],\n",
              "       [ 3.08333333],\n",
              "       [ 3.08333333],\n",
              "       [ 2.83333333],\n",
              "       [ 2.75      ],\n",
              "       [ 3.08333333],\n",
              "       [ 2.91666667],\n",
              "       [ 2.66666667],\n",
              "       [ 3.16666667],\n",
              "       [ 3.08333333],\n",
              "       [ 4.41666667],\n",
              "       [ 4.41666667],\n",
              "       [ 6.75      ],\n",
              "       [ 7.08333333],\n",
              "       [ 6.33333333],\n",
              "       [ 6.5       ],\n",
              "       [10.66666667],\n",
              "       [10.41666667],\n",
              "       [10.5       ],\n",
              "       [10.66666667],\n",
              "       [10.58333333],\n",
              "       [10.75      ],\n",
              "       [ 9.5       ],\n",
              "       [ 9.16666667],\n",
              "       [ 7.33333333],\n",
              "       [ 7.08333333],\n",
              "       [ 7.83333333],\n",
              "       [ 7.58333333],\n",
              "       [ 4.08333333],\n",
              "       [ 4.08333333],\n",
              "       [ 4.16666667],\n",
              "       [ 4.08333333],\n",
              "       [ 3.91666667],\n",
              "       [ 4.08333333],\n",
              "       [ 3.91666667],\n",
              "       [ 4.41666667],\n",
              "       [ 3.66666667],\n",
              "       [ 3.66666667],\n",
              "       [ 3.        ],\n",
              "       [ 3.        ],\n",
              "       [ 2.41666667],\n",
              "       [ 2.66666667],\n",
              "       [ 3.25      ],\n",
              "       [ 3.58333333],\n",
              "       [ 3.41666667],\n",
              "       [ 3.66666667],\n",
              "       [ 3.75      ],\n",
              "       [ 3.66666667],\n",
              "       [ 3.66666667],\n",
              "       [ 3.58333333],\n",
              "       [ 3.91666667],\n",
              "       [ 4.25      ],\n",
              "       [ 4.08333333],\n",
              "       [ 4.08333333],\n",
              "       [ 3.25      ],\n",
              "       [ 3.        ],\n",
              "       [ 3.08333333],\n",
              "       [ 2.58333333],\n",
              "       [ 2.75      ],\n",
              "       [ 2.5       ],\n",
              "       [ 2.75      ],\n",
              "       [ 2.58333333],\n",
              "       [ 2.16666667],\n",
              "       [ 2.75      ],\n",
              "       [ 2.75      ],\n",
              "       [ 2.41666667],\n",
              "       [ 2.58333333],\n",
              "       [ 2.41666667],\n",
              "       [ 2.5       ],\n",
              "       [ 2.41666667],\n",
              "       [ 2.41666667],\n",
              "       [ 2.41666667],\n",
              "       [ 2.75      ],\n",
              "       [ 2.91666667],\n",
              "       [ 2.91666667],\n",
              "       [ 2.75      ],\n",
              "       [ 2.91666667],\n",
              "       [ 3.08333333],\n",
              "       [ 3.33333333],\n",
              "       [ 3.16666667],\n",
              "       [ 3.25      ],\n",
              "       [ 3.66666667],\n",
              "       [ 3.75      ],\n",
              "       [ 3.66666667],\n",
              "       [ 3.08333333],\n",
              "       [ 2.83333333],\n",
              "       [ 2.91666667],\n",
              "       [ 2.5       ],\n",
              "       [ 2.58333333],\n",
              "       [ 2.58333333],\n",
              "       [ 2.66666667],\n",
              "       [ 2.83333333],\n",
              "       [ 2.91666667],\n",
              "       [ 2.58333333]])"
            ]
          },
          "metadata": {
            "tags": []
          },
          "execution_count": 54
        }
      ]
    },
    {
      "metadata": {
        "id": "16UDA8LuA3GZ",
        "colab_type": "code",
        "colab": {
          "base_uri": "https://localhost:8080/",
          "height": 67
        },
        "outputId": "8c812352-b57b-4773-f556-0252345eec66"
      },
      "cell_type": "code",
      "source": [
        "train_y[0]"
      ],
      "execution_count": 37,
      "outputs": [
        {
          "output_type": "execute_result",
          "data": {
            "text/plain": [
              "array([0.05769231, 0.03846154, 0.17307692, 0.07692308, 0.05769231,\n",
              "       0.        , 0.05769231, 0.09615385, 0.        , 0.01923077,\n",
              "       0.01923077, 0.07692308])"
            ]
          },
          "metadata": {
            "tags": []
          },
          "execution_count": 37
        }
      ]
    },
    {
      "metadata": {
        "id": "fUmG2hfFBVD1",
        "colab_type": "code",
        "colab": {
          "base_uri": "https://localhost:8080/",
          "height": 34
        },
        "outputId": "336851d5-c041-4856-b22a-e50efade08fd"
      },
      "cell_type": "code",
      "source": [
        "train_y_avg[0]"
      ],
      "execution_count": 38,
      "outputs": [
        {
          "output_type": "execute_result",
          "data": {
            "text/plain": [
              "0.05608974358974359"
            ]
          },
          "metadata": {
            "tags": []
          },
          "execution_count": 38
        }
      ]
    },
    {
      "metadata": {
        "id": "YvUaRjCqu3SJ",
        "colab_type": "code",
        "colab": {
          "base_uri": "https://localhost:8080/",
          "height": 50
        },
        "outputId": "e76afd96-0218-4b24-f050-4ef9bcb4ecee"
      },
      "cell_type": "code",
      "source": [
        "\n",
        "train_x, validation_x = train_x[:int(len(train_x)*training_data_rate),:,:], train_x[int(len(train_x)*training_data_rate):,:,:] \n",
        "train_y, validation_y = train_y[:int(len(train_y)*training_data_rate),:], train_y[int(len(train_y)*training_data_rate):,:] \n",
        "print(\"X_train size: {}\".format(train_x.shape))\n",
        "print(\"y_train size: {}\".format(train_y.shape))    "
      ],
      "execution_count": 67,
      "outputs": [
        {
          "output_type": "stream",
          "text": [
            "X_train size: (96, 12, 2)\n",
            "y_train size: (96, 12, 2)\n"
          ],
          "name": "stdout"
        }
      ]
    },
    {
      "metadata": {
        "id": "wUa5yC7g8UrN",
        "colab_type": "code",
        "colab": {}
      },
      "cell_type": "code",
      "source": [
        ""
      ],
      "execution_count": 0,
      "outputs": []
    },
    {
      "metadata": {
        "id": "8z7V5lbD8KQm",
        "colab_type": "code",
        "colab": {}
      },
      "cell_type": "code",
      "source": [
        ""
      ],
      "execution_count": 0,
      "outputs": []
    },
    {
      "metadata": {
        "id": "PChptxrdvot_",
        "colab_type": "code",
        "colab": {}
      },
      "cell_type": "code",
      "source": [
        "def swish(x):\n",
        "    return ((K.sigmoid(x) * x * 1.5))\n",
        "get_custom_objects().update({'swish': Activation(swish)})\n"
      ],
      "execution_count": 0,
      "outputs": []
    },
    {
      "metadata": {
        "id": "_sczAlAtu9a3",
        "colab_type": "code",
        "colab": {
          "base_uri": "https://localhost:8080/",
          "height": 355
        },
        "outputId": "4d398e25-8319-4282-dfff-b28d294485d3"
      },
      "cell_type": "code",
      "source": [
        "model = Sequential()\n",
        "model.add(LSTM( 256, input_shape=(window, feature), return_sequences=True))\n",
        "model.add(LSTM(128, return_sequences=False))\n",
        "model.add(Dense(32, activation=\"relu\"))\n",
        "model.add(RepeatVector(12))\n",
        "model.add(LSTM(32, return_sequences=True))\n",
        "model.add(TimeDistributed(Dense(2, activation=\"linear\")))\n",
        "\n",
        "\n",
        "print(model.summary())"
      ],
      "execution_count": 80,
      "outputs": [
        {
          "output_type": "stream",
          "text": [
            "_________________________________________________________________\n",
            "Layer (type)                 Output Shape              Param #   \n",
            "=================================================================\n",
            "lstm_9 (LSTM)                (None, 12, 256)           265216    \n",
            "_________________________________________________________________\n",
            "lstm_10 (LSTM)               (None, 128)               197120    \n",
            "_________________________________________________________________\n",
            "dense_41 (Dense)             (None, 32)                4128      \n",
            "_________________________________________________________________\n",
            "repeat_vector_5 (RepeatVecto (None, 12, 32)            0         \n",
            "_________________________________________________________________\n",
            "lstm_11 (LSTM)               (None, 12, 32)            8320      \n",
            "_________________________________________________________________\n",
            "time_distributed_2 (TimeDist (None, 12, 2)             66        \n",
            "=================================================================\n",
            "Total params: 474,850\n",
            "Trainable params: 474,850\n",
            "Non-trainable params: 0\n",
            "_________________________________________________________________\n",
            "None\n"
          ],
          "name": "stdout"
        }
      ]
    },
    {
      "metadata": {
        "id": "Y45pD4qnvJbu",
        "colab_type": "code",
        "colab": {
          "base_uri": "https://localhost:8080/",
          "height": 6946
        },
        "outputId": "66dfaa38-ef0d-4478-9bf8-040b243a15b8"
      },
      "cell_type": "code",
      "source": [
        "adam = optimizers.Adam(\n",
        "    lr=0.01,\n",
        "    beta_1=0.9,\n",
        "    beta_2=0.999,\n",
        "    epsilon=None,\n",
        "    decay=0.001)\n",
        "\n",
        "\n",
        "nadam = optimizers.Nadam(lr=0.01, \n",
        "    beta_1=0.9, \n",
        "    beta_2=0.999, \n",
        "    epsilon=None, \n",
        "    schedule_decay=0.01)\n",
        "\n",
        "\n",
        "model.compile(\n",
        "    loss=\"mse\",\n",
        "    optimizer=adam,\n",
        "    metrics=[\"mse\"])\n",
        "\n",
        "train_history = model.fit(\n",
        "    x=train_x,\n",
        "    y=train_y,\n",
        "    epochs=200,\n",
        "    validation_data=(validation_x, validation_y),\n",
        "    batch_size=64,\n",
        "    shuffle=True,\n",
        "    verbose=1)"
      ],
      "execution_count": 81,
      "outputs": [
        {
          "output_type": "stream",
          "text": [
            "Train on 96 samples, validate on 17 samples\n",
            "Epoch 1/200\n",
            "96/96 [==============================] - 6s 61ms/step - loss: 0.0976 - mean_squared_error: 0.0976 - val_loss: 0.0809 - val_mean_squared_error: 0.0809\n",
            "Epoch 2/200\n",
            "96/96 [==============================] - 0s 2ms/step - loss: 0.0847 - mean_squared_error: 0.0847 - val_loss: 0.0777 - val_mean_squared_error: 0.0777\n",
            "Epoch 3/200\n",
            "96/96 [==============================] - 0s 2ms/step - loss: 0.0801 - mean_squared_error: 0.0801 - val_loss: 0.0742 - val_mean_squared_error: 0.0742\n",
            "Epoch 4/200\n",
            "96/96 [==============================] - 0s 2ms/step - loss: 0.0791 - mean_squared_error: 0.0791 - val_loss: 0.0755 - val_mean_squared_error: 0.0755\n",
            "Epoch 5/200\n",
            "96/96 [==============================] - 0s 2ms/step - loss: 0.0783 - mean_squared_error: 0.0783 - val_loss: 0.0732 - val_mean_squared_error: 0.0732\n",
            "Epoch 6/200\n",
            "96/96 [==============================] - 0s 2ms/step - loss: 0.0779 - mean_squared_error: 0.0779 - val_loss: 0.0728 - val_mean_squared_error: 0.0728\n",
            "Epoch 7/200\n",
            "96/96 [==============================] - 0s 2ms/step - loss: 0.0776 - mean_squared_error: 0.0776 - val_loss: 0.0735 - val_mean_squared_error: 0.0735\n",
            "Epoch 8/200\n",
            "96/96 [==============================] - 0s 2ms/step - loss: 0.0774 - mean_squared_error: 0.0774 - val_loss: 0.0734 - val_mean_squared_error: 0.0734\n",
            "Epoch 9/200\n",
            "96/96 [==============================] - 0s 2ms/step - loss: 0.0772 - mean_squared_error: 0.0772 - val_loss: 0.0725 - val_mean_squared_error: 0.0725\n",
            "Epoch 10/200\n",
            "96/96 [==============================] - 0s 2ms/step - loss: 0.0774 - mean_squared_error: 0.0774 - val_loss: 0.0730 - val_mean_squared_error: 0.0730\n",
            "Epoch 11/200\n",
            "96/96 [==============================] - 0s 2ms/step - loss: 0.0771 - mean_squared_error: 0.0771 - val_loss: 0.0730 - val_mean_squared_error: 0.0730\n",
            "Epoch 12/200\n",
            "96/96 [==============================] - 0s 2ms/step - loss: 0.0771 - mean_squared_error: 0.0771 - val_loss: 0.0726 - val_mean_squared_error: 0.0726\n",
            "Epoch 13/200\n",
            "96/96 [==============================] - 0s 2ms/step - loss: 0.0770 - mean_squared_error: 0.0770 - val_loss: 0.0726 - val_mean_squared_error: 0.0726\n",
            "Epoch 14/200\n",
            "96/96 [==============================] - 0s 2ms/step - loss: 0.0771 - mean_squared_error: 0.0771 - val_loss: 0.0726 - val_mean_squared_error: 0.0726\n",
            "Epoch 15/200\n",
            "96/96 [==============================] - 0s 2ms/step - loss: 0.0770 - mean_squared_error: 0.0770 - val_loss: 0.0725 - val_mean_squared_error: 0.0725\n",
            "Epoch 16/200\n",
            "96/96 [==============================] - 0s 2ms/step - loss: 0.0770 - mean_squared_error: 0.0770 - val_loss: 0.0726 - val_mean_squared_error: 0.0726\n",
            "Epoch 17/200\n",
            "96/96 [==============================] - 0s 2ms/step - loss: 0.0770 - mean_squared_error: 0.0770 - val_loss: 0.0724 - val_mean_squared_error: 0.0724\n",
            "Epoch 18/200\n",
            "96/96 [==============================] - 0s 2ms/step - loss: 0.0770 - mean_squared_error: 0.0770 - val_loss: 0.0722 - val_mean_squared_error: 0.0722\n",
            "Epoch 19/200\n",
            "96/96 [==============================] - 0s 2ms/step - loss: 0.0769 - mean_squared_error: 0.0769 - val_loss: 0.0724 - val_mean_squared_error: 0.0724\n",
            "Epoch 20/200\n",
            "96/96 [==============================] - 0s 2ms/step - loss: 0.0769 - mean_squared_error: 0.0769 - val_loss: 0.0724 - val_mean_squared_error: 0.0724\n",
            "Epoch 21/200\n",
            "96/96 [==============================] - 0s 2ms/step - loss: 0.0769 - mean_squared_error: 0.0769 - val_loss: 0.0723 - val_mean_squared_error: 0.0723\n",
            "Epoch 22/200\n",
            "96/96 [==============================] - 0s 2ms/step - loss: 0.0769 - mean_squared_error: 0.0769 - val_loss: 0.0722 - val_mean_squared_error: 0.0722\n",
            "Epoch 23/200\n",
            "96/96 [==============================] - 0s 2ms/step - loss: 0.0768 - mean_squared_error: 0.0768 - val_loss: 0.0722 - val_mean_squared_error: 0.0722\n",
            "Epoch 24/200\n",
            "96/96 [==============================] - 0s 2ms/step - loss: 0.0768 - mean_squared_error: 0.0768 - val_loss: 0.0723 - val_mean_squared_error: 0.0723\n",
            "Epoch 25/200\n",
            "96/96 [==============================] - 0s 2ms/step - loss: 0.0768 - mean_squared_error: 0.0768 - val_loss: 0.0724 - val_mean_squared_error: 0.0724\n",
            "Epoch 26/200\n",
            "96/96 [==============================] - 0s 2ms/step - loss: 0.0767 - mean_squared_error: 0.0767 - val_loss: 0.0723 - val_mean_squared_error: 0.0723\n",
            "Epoch 27/200\n",
            "96/96 [==============================] - 0s 2ms/step - loss: 0.0768 - mean_squared_error: 0.0768 - val_loss: 0.0723 - val_mean_squared_error: 0.0723\n",
            "Epoch 28/200\n",
            "96/96 [==============================] - 0s 2ms/step - loss: 0.0767 - mean_squared_error: 0.0767 - val_loss: 0.0723 - val_mean_squared_error: 0.0723\n",
            "Epoch 29/200\n",
            "96/96 [==============================] - 0s 2ms/step - loss: 0.0768 - mean_squared_error: 0.0768 - val_loss: 0.0723 - val_mean_squared_error: 0.0723\n",
            "Epoch 30/200\n",
            "96/96 [==============================] - 0s 2ms/step - loss: 0.0766 - mean_squared_error: 0.0766 - val_loss: 0.0724 - val_mean_squared_error: 0.0724\n",
            "Epoch 31/200\n",
            "96/96 [==============================] - 0s 2ms/step - loss: 0.0766 - mean_squared_error: 0.0766 - val_loss: 0.0724 - val_mean_squared_error: 0.0724\n",
            "Epoch 32/200\n",
            "96/96 [==============================] - 0s 2ms/step - loss: 0.0765 - mean_squared_error: 0.0765 - val_loss: 0.0724 - val_mean_squared_error: 0.0724\n",
            "Epoch 33/200\n",
            "96/96 [==============================] - 0s 2ms/step - loss: 0.0765 - mean_squared_error: 0.0765 - val_loss: 0.0725 - val_mean_squared_error: 0.0725\n",
            "Epoch 34/200\n",
            "96/96 [==============================] - 0s 2ms/step - loss: 0.0764 - mean_squared_error: 0.0764 - val_loss: 0.0726 - val_mean_squared_error: 0.0726\n",
            "Epoch 35/200\n",
            "96/96 [==============================] - 0s 2ms/step - loss: 0.0764 - mean_squared_error: 0.0764 - val_loss: 0.0725 - val_mean_squared_error: 0.0725\n",
            "Epoch 36/200\n",
            "96/96 [==============================] - 0s 2ms/step - loss: 0.0765 - mean_squared_error: 0.0765 - val_loss: 0.0729 - val_mean_squared_error: 0.0729\n",
            "Epoch 37/200\n",
            "96/96 [==============================] - 0s 2ms/step - loss: 0.0768 - mean_squared_error: 0.0768 - val_loss: 0.0728 - val_mean_squared_error: 0.0728\n",
            "Epoch 38/200\n",
            "96/96 [==============================] - 0s 2ms/step - loss: 0.0766 - mean_squared_error: 0.0766 - val_loss: 0.0728 - val_mean_squared_error: 0.0728\n",
            "Epoch 39/200\n",
            "96/96 [==============================] - 0s 2ms/step - loss: 0.0767 - mean_squared_error: 0.0767 - val_loss: 0.0727 - val_mean_squared_error: 0.0727\n",
            "Epoch 40/200\n",
            "96/96 [==============================] - 0s 2ms/step - loss: 0.0762 - mean_squared_error: 0.0762 - val_loss: 0.0730 - val_mean_squared_error: 0.0730\n",
            "Epoch 41/200\n",
            "96/96 [==============================] - 0s 2ms/step - loss: 0.0764 - mean_squared_error: 0.0764 - val_loss: 0.0730 - val_mean_squared_error: 0.0730\n",
            "Epoch 42/200\n",
            "96/96 [==============================] - 0s 2ms/step - loss: 0.0762 - mean_squared_error: 0.0762 - val_loss: 0.0730 - val_mean_squared_error: 0.0730\n",
            "Epoch 43/200\n",
            "96/96 [==============================] - 0s 2ms/step - loss: 0.0761 - mean_squared_error: 0.0761 - val_loss: 0.0729 - val_mean_squared_error: 0.0729\n",
            "Epoch 44/200\n",
            "96/96 [==============================] - 0s 2ms/step - loss: 0.0761 - mean_squared_error: 0.0761 - val_loss: 0.0742 - val_mean_squared_error: 0.0742\n",
            "Epoch 45/200\n",
            "96/96 [==============================] - 0s 2ms/step - loss: 0.0759 - mean_squared_error: 0.0759 - val_loss: 0.0733 - val_mean_squared_error: 0.0733\n",
            "Epoch 46/200\n",
            "96/96 [==============================] - 0s 2ms/step - loss: 0.0756 - mean_squared_error: 0.0756 - val_loss: 0.0737 - val_mean_squared_error: 0.0737\n",
            "Epoch 47/200\n",
            "96/96 [==============================] - 0s 2ms/step - loss: 0.0755 - mean_squared_error: 0.0755 - val_loss: 0.0742 - val_mean_squared_error: 0.0742\n",
            "Epoch 48/200\n",
            "96/96 [==============================] - 0s 2ms/step - loss: 0.0752 - mean_squared_error: 0.0752 - val_loss: 0.0741 - val_mean_squared_error: 0.0741\n",
            "Epoch 49/200\n",
            "96/96 [==============================] - 0s 2ms/step - loss: 0.0750 - mean_squared_error: 0.0750 - val_loss: 0.0744 - val_mean_squared_error: 0.0744\n",
            "Epoch 50/200\n",
            "96/96 [==============================] - 0s 2ms/step - loss: 0.0747 - mean_squared_error: 0.0747 - val_loss: 0.0748 - val_mean_squared_error: 0.0748\n",
            "Epoch 51/200\n",
            "96/96 [==============================] - 0s 2ms/step - loss: 0.0746 - mean_squared_error: 0.0746 - val_loss: 0.0768 - val_mean_squared_error: 0.0768\n",
            "Epoch 52/200\n",
            "96/96 [==============================] - 0s 2ms/step - loss: 0.0750 - mean_squared_error: 0.0750 - val_loss: 0.0743 - val_mean_squared_error: 0.0743\n",
            "Epoch 53/200\n",
            "96/96 [==============================] - 0s 2ms/step - loss: 0.0754 - mean_squared_error: 0.0754 - val_loss: 0.0759 - val_mean_squared_error: 0.0759\n",
            "Epoch 54/200\n",
            "96/96 [==============================] - 0s 2ms/step - loss: 0.0753 - mean_squared_error: 0.0753 - val_loss: 0.0742 - val_mean_squared_error: 0.0742\n",
            "Epoch 55/200\n",
            "96/96 [==============================] - 0s 2ms/step - loss: 0.0752 - mean_squared_error: 0.0752 - val_loss: 0.0745 - val_mean_squared_error: 0.0745\n",
            "Epoch 56/200\n",
            "96/96 [==============================] - 0s 2ms/step - loss: 0.0750 - mean_squared_error: 0.0750 - val_loss: 0.0751 - val_mean_squared_error: 0.0751\n",
            "Epoch 57/200\n",
            "96/96 [==============================] - 0s 2ms/step - loss: 0.0749 - mean_squared_error: 0.0749 - val_loss: 0.0746 - val_mean_squared_error: 0.0746\n",
            "Epoch 58/200\n",
            "96/96 [==============================] - 0s 2ms/step - loss: 0.0747 - mean_squared_error: 0.0747 - val_loss: 0.0755 - val_mean_squared_error: 0.0755\n",
            "Epoch 59/200\n",
            "96/96 [==============================] - 0s 2ms/step - loss: 0.0741 - mean_squared_error: 0.0741 - val_loss: 0.0767 - val_mean_squared_error: 0.0767\n",
            "Epoch 60/200\n",
            "96/96 [==============================] - 0s 2ms/step - loss: 0.0740 - mean_squared_error: 0.0740 - val_loss: 0.0759 - val_mean_squared_error: 0.0759\n",
            "Epoch 61/200\n",
            "96/96 [==============================] - 0s 2ms/step - loss: 0.0736 - mean_squared_error: 0.0736 - val_loss: 0.0760 - val_mean_squared_error: 0.0760\n",
            "Epoch 62/200\n",
            "96/96 [==============================] - 0s 2ms/step - loss: 0.0734 - mean_squared_error: 0.0734 - val_loss: 0.0770 - val_mean_squared_error: 0.0770\n",
            "Epoch 63/200\n",
            "96/96 [==============================] - 0s 2ms/step - loss: 0.0733 - mean_squared_error: 0.0733 - val_loss: 0.0759 - val_mean_squared_error: 0.0759\n",
            "Epoch 64/200\n",
            "96/96 [==============================] - 0s 2ms/step - loss: 0.0730 - mean_squared_error: 0.0730 - val_loss: 0.0760 - val_mean_squared_error: 0.0760\n",
            "Epoch 65/200\n",
            "96/96 [==============================] - 0s 2ms/step - loss: 0.0726 - mean_squared_error: 0.0726 - val_loss: 0.0760 - val_mean_squared_error: 0.0760\n",
            "Epoch 66/200\n",
            "96/96 [==============================] - 0s 2ms/step - loss: 0.0725 - mean_squared_error: 0.0725 - val_loss: 0.0761 - val_mean_squared_error: 0.0761\n",
            "Epoch 67/200\n",
            "96/96 [==============================] - 0s 2ms/step - loss: 0.0728 - mean_squared_error: 0.0728 - val_loss: 0.0764 - val_mean_squared_error: 0.0764\n",
            "Epoch 68/200\n",
            "96/96 [==============================] - 0s 2ms/step - loss: 0.0722 - mean_squared_error: 0.0722 - val_loss: 0.0765 - val_mean_squared_error: 0.0765\n",
            "Epoch 69/200\n",
            "96/96 [==============================] - 0s 2ms/step - loss: 0.0718 - mean_squared_error: 0.0718 - val_loss: 0.0764 - val_mean_squared_error: 0.0764\n",
            "Epoch 70/200\n",
            "96/96 [==============================] - 0s 2ms/step - loss: 0.0714 - mean_squared_error: 0.0714 - val_loss: 0.0761 - val_mean_squared_error: 0.0761\n",
            "Epoch 71/200\n",
            "96/96 [==============================] - 0s 2ms/step - loss: 0.0710 - mean_squared_error: 0.0710 - val_loss: 0.0767 - val_mean_squared_error: 0.0767\n",
            "Epoch 72/200\n",
            "96/96 [==============================] - 0s 2ms/step - loss: 0.0708 - mean_squared_error: 0.0708 - val_loss: 0.0767 - val_mean_squared_error: 0.0767\n",
            "Epoch 73/200\n",
            "96/96 [==============================] - 0s 2ms/step - loss: 0.0703 - mean_squared_error: 0.0703 - val_loss: 0.0770 - val_mean_squared_error: 0.0770\n",
            "Epoch 74/200\n",
            "96/96 [==============================] - 0s 2ms/step - loss: 0.0701 - mean_squared_error: 0.0701 - val_loss: 0.0785 - val_mean_squared_error: 0.0785\n",
            "Epoch 75/200\n",
            "96/96 [==============================] - 0s 2ms/step - loss: 0.0707 - mean_squared_error: 0.0707 - val_loss: 0.0798 - val_mean_squared_error: 0.0798\n",
            "Epoch 76/200\n",
            "96/96 [==============================] - 0s 2ms/step - loss: 0.0708 - mean_squared_error: 0.0708 - val_loss: 0.0776 - val_mean_squared_error: 0.0776\n",
            "Epoch 77/200\n",
            "96/96 [==============================] - 0s 2ms/step - loss: 0.0704 - mean_squared_error: 0.0704 - val_loss: 0.0778 - val_mean_squared_error: 0.0778\n",
            "Epoch 78/200\n",
            "96/96 [==============================] - 0s 2ms/step - loss: 0.0703 - mean_squared_error: 0.0703 - val_loss: 0.0768 - val_mean_squared_error: 0.0768\n",
            "Epoch 79/200\n",
            "96/96 [==============================] - 0s 2ms/step - loss: 0.0708 - mean_squared_error: 0.0708 - val_loss: 0.0776 - val_mean_squared_error: 0.0776\n",
            "Epoch 80/200\n",
            "96/96 [==============================] - 0s 2ms/step - loss: 0.0702 - mean_squared_error: 0.0702 - val_loss: 0.0769 - val_mean_squared_error: 0.0769\n",
            "Epoch 81/200\n",
            "96/96 [==============================] - 0s 2ms/step - loss: 0.0694 - mean_squared_error: 0.0694 - val_loss: 0.0772 - val_mean_squared_error: 0.0772\n",
            "Epoch 82/200\n",
            "96/96 [==============================] - 0s 2ms/step - loss: 0.0695 - mean_squared_error: 0.0695 - val_loss: 0.0783 - val_mean_squared_error: 0.0783\n",
            "Epoch 83/200\n",
            "96/96 [==============================] - 0s 2ms/step - loss: 0.0682 - mean_squared_error: 0.0682 - val_loss: 0.0793 - val_mean_squared_error: 0.0793\n",
            "Epoch 84/200\n",
            "96/96 [==============================] - 0s 2ms/step - loss: 0.0687 - mean_squared_error: 0.0687 - val_loss: 0.0770 - val_mean_squared_error: 0.0770\n",
            "Epoch 85/200\n",
            "96/96 [==============================] - 0s 2ms/step - loss: 0.0682 - mean_squared_error: 0.0682 - val_loss: 0.0762 - val_mean_squared_error: 0.0762\n",
            "Epoch 86/200\n",
            "96/96 [==============================] - 0s 2ms/step - loss: 0.0682 - mean_squared_error: 0.0682 - val_loss: 0.0774 - val_mean_squared_error: 0.0774\n",
            "Epoch 87/200\n",
            "96/96 [==============================] - 0s 2ms/step - loss: 0.0672 - mean_squared_error: 0.0672 - val_loss: 0.0783 - val_mean_squared_error: 0.0783\n",
            "Epoch 88/200\n",
            "96/96 [==============================] - 0s 2ms/step - loss: 0.0667 - mean_squared_error: 0.0667 - val_loss: 0.0793 - val_mean_squared_error: 0.0793\n",
            "Epoch 89/200\n",
            "96/96 [==============================] - 0s 2ms/step - loss: 0.0660 - mean_squared_error: 0.0660 - val_loss: 0.0795 - val_mean_squared_error: 0.0795\n",
            "Epoch 90/200\n",
            "96/96 [==============================] - 0s 2ms/step - loss: 0.0662 - mean_squared_error: 0.0662 - val_loss: 0.0791 - val_mean_squared_error: 0.0791\n",
            "Epoch 91/200\n",
            "96/96 [==============================] - 0s 2ms/step - loss: 0.0651 - mean_squared_error: 0.0651 - val_loss: 0.0793 - val_mean_squared_error: 0.0793\n",
            "Epoch 92/200\n",
            "96/96 [==============================] - 0s 2ms/step - loss: 0.0661 - mean_squared_error: 0.0661 - val_loss: 0.0781 - val_mean_squared_error: 0.0781\n",
            "Epoch 93/200\n",
            "96/96 [==============================] - 0s 2ms/step - loss: 0.0661 - mean_squared_error: 0.0661 - val_loss: 0.0770 - val_mean_squared_error: 0.0770\n",
            "Epoch 94/200\n",
            "96/96 [==============================] - 0s 2ms/step - loss: 0.0659 - mean_squared_error: 0.0659 - val_loss: 0.0800 - val_mean_squared_error: 0.0800\n",
            "Epoch 95/200\n",
            "96/96 [==============================] - 0s 2ms/step - loss: 0.0654 - mean_squared_error: 0.0654 - val_loss: 0.0795 - val_mean_squared_error: 0.0795\n",
            "Epoch 96/200\n",
            "96/96 [==============================] - 0s 2ms/step - loss: 0.0654 - mean_squared_error: 0.0654 - val_loss: 0.0808 - val_mean_squared_error: 0.0808\n",
            "Epoch 97/200\n",
            "96/96 [==============================] - 0s 2ms/step - loss: 0.0655 - mean_squared_error: 0.0655 - val_loss: 0.0773 - val_mean_squared_error: 0.0773\n",
            "Epoch 98/200\n",
            "96/96 [==============================] - 0s 2ms/step - loss: 0.0648 - mean_squared_error: 0.0648 - val_loss: 0.0796 - val_mean_squared_error: 0.0796\n",
            "Epoch 99/200\n",
            "96/96 [==============================] - 0s 2ms/step - loss: 0.0638 - mean_squared_error: 0.0638 - val_loss: 0.0784 - val_mean_squared_error: 0.0784\n",
            "Epoch 100/200\n",
            "96/96 [==============================] - 0s 2ms/step - loss: 0.0642 - mean_squared_error: 0.0642 - val_loss: 0.0875 - val_mean_squared_error: 0.0875\n",
            "Epoch 101/200\n",
            "96/96 [==============================] - 0s 2ms/step - loss: 0.0640 - mean_squared_error: 0.0640 - val_loss: 0.0782 - val_mean_squared_error: 0.0782\n",
            "Epoch 102/200\n",
            "96/96 [==============================] - 0s 2ms/step - loss: 0.0637 - mean_squared_error: 0.0637 - val_loss: 0.0789 - val_mean_squared_error: 0.0789\n",
            "Epoch 103/200\n",
            "96/96 [==============================] - 0s 2ms/step - loss: 0.0631 - mean_squared_error: 0.0631 - val_loss: 0.0783 - val_mean_squared_error: 0.0783\n",
            "Epoch 104/200\n",
            "96/96 [==============================] - 0s 2ms/step - loss: 0.0630 - mean_squared_error: 0.0630 - val_loss: 0.0820 - val_mean_squared_error: 0.0820\n",
            "Epoch 105/200\n",
            "96/96 [==============================] - 0s 2ms/step - loss: 0.0630 - mean_squared_error: 0.0630 - val_loss: 0.0813 - val_mean_squared_error: 0.0813\n",
            "Epoch 106/200\n",
            "96/96 [==============================] - 0s 2ms/step - loss: 0.0631 - mean_squared_error: 0.0631 - val_loss: 0.0787 - val_mean_squared_error: 0.0787\n",
            "Epoch 107/200\n",
            "96/96 [==============================] - 0s 2ms/step - loss: 0.0629 - mean_squared_error: 0.0629 - val_loss: 0.0784 - val_mean_squared_error: 0.0784\n",
            "Epoch 108/200\n",
            "96/96 [==============================] - 0s 2ms/step - loss: 0.0621 - mean_squared_error: 0.0621 - val_loss: 0.0779 - val_mean_squared_error: 0.0779\n",
            "Epoch 109/200\n",
            "96/96 [==============================] - 0s 2ms/step - loss: 0.0619 - mean_squared_error: 0.0619 - val_loss: 0.0852 - val_mean_squared_error: 0.0852\n",
            "Epoch 110/200\n",
            "96/96 [==============================] - 0s 2ms/step - loss: 0.0613 - mean_squared_error: 0.0613 - val_loss: 0.0876 - val_mean_squared_error: 0.0876\n",
            "Epoch 111/200\n",
            "96/96 [==============================] - 0s 2ms/step - loss: 0.0607 - mean_squared_error: 0.0607 - val_loss: 0.0821 - val_mean_squared_error: 0.0821\n",
            "Epoch 112/200\n",
            "96/96 [==============================] - 0s 2ms/step - loss: 0.0601 - mean_squared_error: 0.0601 - val_loss: 0.0844 - val_mean_squared_error: 0.0844\n",
            "Epoch 113/200\n",
            "96/96 [==============================] - 0s 2ms/step - loss: 0.0600 - mean_squared_error: 0.0600 - val_loss: 0.0878 - val_mean_squared_error: 0.0878\n",
            "Epoch 114/200\n",
            "96/96 [==============================] - 0s 2ms/step - loss: 0.0599 - mean_squared_error: 0.0599 - val_loss: 0.0857 - val_mean_squared_error: 0.0857\n",
            "Epoch 115/200\n",
            "96/96 [==============================] - 0s 2ms/step - loss: 0.0584 - mean_squared_error: 0.0584 - val_loss: 0.0777 - val_mean_squared_error: 0.0777\n",
            "Epoch 116/200\n",
            "96/96 [==============================] - 0s 2ms/step - loss: 0.0584 - mean_squared_error: 0.0584 - val_loss: 0.0904 - val_mean_squared_error: 0.0904\n",
            "Epoch 117/200\n",
            "96/96 [==============================] - 0s 2ms/step - loss: 0.0590 - mean_squared_error: 0.0590 - val_loss: 0.0830 - val_mean_squared_error: 0.0830\n",
            "Epoch 118/200\n",
            "96/96 [==============================] - 0s 2ms/step - loss: 0.0600 - mean_squared_error: 0.0600 - val_loss: 0.0763 - val_mean_squared_error: 0.0763\n",
            "Epoch 119/200\n",
            "96/96 [==============================] - 0s 2ms/step - loss: 0.0581 - mean_squared_error: 0.0581 - val_loss: 0.0872 - val_mean_squared_error: 0.0872\n",
            "Epoch 120/200\n",
            "96/96 [==============================] - 0s 2ms/step - loss: 0.0583 - mean_squared_error: 0.0583 - val_loss: 0.0823 - val_mean_squared_error: 0.0823\n",
            "Epoch 121/200\n",
            "96/96 [==============================] - 0s 2ms/step - loss: 0.0600 - mean_squared_error: 0.0600 - val_loss: 0.0902 - val_mean_squared_error: 0.0902\n",
            "Epoch 122/200\n",
            "96/96 [==============================] - 0s 2ms/step - loss: 0.0608 - mean_squared_error: 0.0608 - val_loss: 0.0812 - val_mean_squared_error: 0.0812\n",
            "Epoch 123/200\n",
            "96/96 [==============================] - 0s 2ms/step - loss: 0.0593 - mean_squared_error: 0.0593 - val_loss: 0.0784 - val_mean_squared_error: 0.0784\n",
            "Epoch 124/200\n",
            "96/96 [==============================] - 0s 2ms/step - loss: 0.0591 - mean_squared_error: 0.0591 - val_loss: 0.0841 - val_mean_squared_error: 0.0841\n",
            "Epoch 125/200\n",
            "96/96 [==============================] - 0s 2ms/step - loss: 0.0594 - mean_squared_error: 0.0594 - val_loss: 0.0831 - val_mean_squared_error: 0.0831\n",
            "Epoch 126/200\n",
            "96/96 [==============================] - 0s 2ms/step - loss: 0.0570 - mean_squared_error: 0.0570 - val_loss: 0.0867 - val_mean_squared_error: 0.0867\n",
            "Epoch 127/200\n",
            "96/96 [==============================] - 0s 2ms/step - loss: 0.0572 - mean_squared_error: 0.0572 - val_loss: 0.0904 - val_mean_squared_error: 0.0904\n",
            "Epoch 128/200\n",
            "96/96 [==============================] - 0s 3ms/step - loss: 0.0567 - mean_squared_error: 0.0567 - val_loss: 0.0885 - val_mean_squared_error: 0.0885\n",
            "Epoch 129/200\n",
            "96/96 [==============================] - 0s 2ms/step - loss: 0.0568 - mean_squared_error: 0.0568 - val_loss: 0.0878 - val_mean_squared_error: 0.0878\n",
            "Epoch 130/200\n",
            "96/96 [==============================] - 0s 2ms/step - loss: 0.0553 - mean_squared_error: 0.0553 - val_loss: 0.0863 - val_mean_squared_error: 0.0863\n",
            "Epoch 131/200\n",
            "96/96 [==============================] - 0s 2ms/step - loss: 0.0565 - mean_squared_error: 0.0565 - val_loss: 0.0923 - val_mean_squared_error: 0.0923\n",
            "Epoch 132/200\n",
            "96/96 [==============================] - 0s 2ms/step - loss: 0.0585 - mean_squared_error: 0.0585 - val_loss: 0.0898 - val_mean_squared_error: 0.0898\n",
            "Epoch 133/200\n",
            "96/96 [==============================] - 0s 2ms/step - loss: 0.0557 - mean_squared_error: 0.0557 - val_loss: 0.0876 - val_mean_squared_error: 0.0876\n",
            "Epoch 134/200\n",
            "96/96 [==============================] - 0s 2ms/step - loss: 0.0549 - mean_squared_error: 0.0549 - val_loss: 0.0886 - val_mean_squared_error: 0.0886\n",
            "Epoch 135/200\n",
            "96/96 [==============================] - 0s 2ms/step - loss: 0.0523 - mean_squared_error: 0.0523 - val_loss: 0.0996 - val_mean_squared_error: 0.0996\n",
            "Epoch 136/200\n",
            "96/96 [==============================] - 0s 2ms/step - loss: 0.0530 - mean_squared_error: 0.0530 - val_loss: 0.0898 - val_mean_squared_error: 0.0898\n",
            "Epoch 137/200\n",
            "96/96 [==============================] - 0s 2ms/step - loss: 0.0520 - mean_squared_error: 0.0520 - val_loss: 0.0966 - val_mean_squared_error: 0.0966\n",
            "Epoch 138/200\n",
            "96/96 [==============================] - 0s 2ms/step - loss: 0.0488 - mean_squared_error: 0.0488 - val_loss: 0.1084 - val_mean_squared_error: 0.1084\n",
            "Epoch 139/200\n",
            "96/96 [==============================] - 0s 2ms/step - loss: 0.0512 - mean_squared_error: 0.0512 - val_loss: 0.0969 - val_mean_squared_error: 0.0969\n",
            "Epoch 140/200\n",
            "96/96 [==============================] - 0s 2ms/step - loss: 0.0526 - mean_squared_error: 0.0526 - val_loss: 0.0922 - val_mean_squared_error: 0.0922\n",
            "Epoch 141/200\n",
            "96/96 [==============================] - 0s 2ms/step - loss: 0.0514 - mean_squared_error: 0.0514 - val_loss: 0.1042 - val_mean_squared_error: 0.1042\n",
            "Epoch 142/200\n",
            "96/96 [==============================] - 0s 2ms/step - loss: 0.0539 - mean_squared_error: 0.0539 - val_loss: 0.0892 - val_mean_squared_error: 0.0892\n",
            "Epoch 143/200\n",
            "96/96 [==============================] - 0s 2ms/step - loss: 0.0568 - mean_squared_error: 0.0568 - val_loss: 0.0907 - val_mean_squared_error: 0.0907\n",
            "Epoch 144/200\n",
            "96/96 [==============================] - 0s 2ms/step - loss: 0.0566 - mean_squared_error: 0.0566 - val_loss: 0.0871 - val_mean_squared_error: 0.0871\n",
            "Epoch 145/200\n",
            "96/96 [==============================] - 0s 2ms/step - loss: 0.0539 - mean_squared_error: 0.0539 - val_loss: 0.0902 - val_mean_squared_error: 0.0902\n",
            "Epoch 146/200\n",
            "96/96 [==============================] - 0s 2ms/step - loss: 0.0517 - mean_squared_error: 0.0517 - val_loss: 0.1038 - val_mean_squared_error: 0.1038\n",
            "Epoch 147/200\n",
            "96/96 [==============================] - 0s 2ms/step - loss: 0.0522 - mean_squared_error: 0.0522 - val_loss: 0.1072 - val_mean_squared_error: 0.1072\n",
            "Epoch 148/200\n",
            "96/96 [==============================] - 0s 2ms/step - loss: 0.0504 - mean_squared_error: 0.0504 - val_loss: 0.0972 - val_mean_squared_error: 0.0972\n",
            "Epoch 149/200\n",
            "96/96 [==============================] - 0s 2ms/step - loss: 0.0519 - mean_squared_error: 0.0519 - val_loss: 0.1021 - val_mean_squared_error: 0.1021\n",
            "Epoch 150/200\n",
            "96/96 [==============================] - 0s 2ms/step - loss: 0.0440 - mean_squared_error: 0.0440 - val_loss: 0.0976 - val_mean_squared_error: 0.0976\n",
            "Epoch 151/200\n",
            "96/96 [==============================] - 0s 2ms/step - loss: 0.0468 - mean_squared_error: 0.0468 - val_loss: 0.1030 - val_mean_squared_error: 0.1030\n",
            "Epoch 152/200\n",
            "96/96 [==============================] - 0s 2ms/step - loss: 0.0445 - mean_squared_error: 0.0445 - val_loss: 0.0987 - val_mean_squared_error: 0.0987\n",
            "Epoch 153/200\n",
            "96/96 [==============================] - 0s 2ms/step - loss: 0.0474 - mean_squared_error: 0.0474 - val_loss: 0.1015 - val_mean_squared_error: 0.1015\n",
            "Epoch 154/200\n",
            "96/96 [==============================] - 0s 2ms/step - loss: 0.0464 - mean_squared_error: 0.0464 - val_loss: 0.1075 - val_mean_squared_error: 0.1075\n",
            "Epoch 155/200\n",
            "96/96 [==============================] - 0s 2ms/step - loss: 0.0415 - mean_squared_error: 0.0415 - val_loss: 0.1070 - val_mean_squared_error: 0.1070\n",
            "Epoch 156/200\n",
            "96/96 [==============================] - 0s 2ms/step - loss: 0.0386 - mean_squared_error: 0.0386 - val_loss: 0.1053 - val_mean_squared_error: 0.1053\n",
            "Epoch 157/200\n",
            "96/96 [==============================] - 0s 2ms/step - loss: 0.0395 - mean_squared_error: 0.0395 - val_loss: 0.1062 - val_mean_squared_error: 0.1062\n",
            "Epoch 158/200\n",
            "96/96 [==============================] - 0s 2ms/step - loss: 0.0389 - mean_squared_error: 0.0389 - val_loss: 0.1105 - val_mean_squared_error: 0.1105\n",
            "Epoch 159/200\n",
            "96/96 [==============================] - 0s 2ms/step - loss: 0.0365 - mean_squared_error: 0.0365 - val_loss: 0.1148 - val_mean_squared_error: 0.1148\n",
            "Epoch 160/200\n",
            "96/96 [==============================] - 0s 2ms/step - loss: 0.0497 - mean_squared_error: 0.0497 - val_loss: 0.0978 - val_mean_squared_error: 0.0978\n",
            "Epoch 161/200\n",
            "96/96 [==============================] - 0s 2ms/step - loss: 0.0510 - mean_squared_error: 0.0510 - val_loss: 0.1075 - val_mean_squared_error: 0.1075\n",
            "Epoch 162/200\n",
            "96/96 [==============================] - 0s 2ms/step - loss: 0.0507 - mean_squared_error: 0.0507 - val_loss: 0.0923 - val_mean_squared_error: 0.0923\n",
            "Epoch 163/200\n",
            "96/96 [==============================] - 0s 2ms/step - loss: 0.0507 - mean_squared_error: 0.0507 - val_loss: 0.0858 - val_mean_squared_error: 0.0858\n",
            "Epoch 164/200\n",
            "96/96 [==============================] - 0s 2ms/step - loss: 0.0496 - mean_squared_error: 0.0496 - val_loss: 0.0977 - val_mean_squared_error: 0.0977\n",
            "Epoch 165/200\n",
            "96/96 [==============================] - 0s 2ms/step - loss: 0.0477 - mean_squared_error: 0.0477 - val_loss: 0.1040 - val_mean_squared_error: 0.1040\n",
            "Epoch 166/200\n",
            "96/96 [==============================] - 0s 2ms/step - loss: 0.0463 - mean_squared_error: 0.0463 - val_loss: 0.0998 - val_mean_squared_error: 0.0998\n",
            "Epoch 167/200\n",
            "96/96 [==============================] - 0s 2ms/step - loss: 0.0396 - mean_squared_error: 0.0396 - val_loss: 0.1026 - val_mean_squared_error: 0.1026\n",
            "Epoch 168/200\n",
            "96/96 [==============================] - 0s 2ms/step - loss: 0.0368 - mean_squared_error: 0.0368 - val_loss: 0.1044 - val_mean_squared_error: 0.1044\n",
            "Epoch 169/200\n",
            "96/96 [==============================] - 0s 2ms/step - loss: 0.0335 - mean_squared_error: 0.0335 - val_loss: 0.1155 - val_mean_squared_error: 0.1155\n",
            "Epoch 170/200\n",
            "96/96 [==============================] - 0s 2ms/step - loss: 0.0316 - mean_squared_error: 0.0316 - val_loss: 0.1293 - val_mean_squared_error: 0.1293\n",
            "Epoch 171/200\n",
            "96/96 [==============================] - 0s 2ms/step - loss: 0.0296 - mean_squared_error: 0.0296 - val_loss: 0.1238 - val_mean_squared_error: 0.1238\n",
            "Epoch 172/200\n",
            "96/96 [==============================] - 0s 2ms/step - loss: 0.0300 - mean_squared_error: 0.0300 - val_loss: 0.1210 - val_mean_squared_error: 0.1210\n",
            "Epoch 173/200\n",
            "96/96 [==============================] - 0s 2ms/step - loss: 0.0266 - mean_squared_error: 0.0266 - val_loss: 0.1140 - val_mean_squared_error: 0.1140\n",
            "Epoch 174/200\n",
            "96/96 [==============================] - 0s 2ms/step - loss: 0.0260 - mean_squared_error: 0.0260 - val_loss: 0.1161 - val_mean_squared_error: 0.1161\n",
            "Epoch 175/200\n",
            "96/96 [==============================] - 0s 2ms/step - loss: 0.0250 - mean_squared_error: 0.0250 - val_loss: 0.1086 - val_mean_squared_error: 0.1086\n",
            "Epoch 176/200\n",
            "96/96 [==============================] - 0s 2ms/step - loss: 0.0262 - mean_squared_error: 0.0262 - val_loss: 0.1073 - val_mean_squared_error: 0.1073\n",
            "Epoch 177/200\n",
            "96/96 [==============================] - 0s 2ms/step - loss: 0.0252 - mean_squared_error: 0.0252 - val_loss: 0.1118 - val_mean_squared_error: 0.1118\n",
            "Epoch 178/200\n",
            "96/96 [==============================] - 0s 2ms/step - loss: 0.0262 - mean_squared_error: 0.0262 - val_loss: 0.1149 - val_mean_squared_error: 0.1149\n",
            "Epoch 179/200\n",
            "96/96 [==============================] - 0s 2ms/step - loss: 0.0254 - mean_squared_error: 0.0254 - val_loss: 0.1132 - val_mean_squared_error: 0.1132\n",
            "Epoch 180/200\n",
            "96/96 [==============================] - 0s 2ms/step - loss: 0.0307 - mean_squared_error: 0.0307 - val_loss: 0.1117 - val_mean_squared_error: 0.1117\n",
            "Epoch 181/200\n",
            "96/96 [==============================] - 0s 2ms/step - loss: 0.0333 - mean_squared_error: 0.0333 - val_loss: 0.1054 - val_mean_squared_error: 0.1054\n",
            "Epoch 182/200\n",
            "96/96 [==============================] - 0s 2ms/step - loss: 0.0352 - mean_squared_error: 0.0352 - val_loss: 0.0950 - val_mean_squared_error: 0.0950\n",
            "Epoch 183/200\n",
            "96/96 [==============================] - 0s 2ms/step - loss: 0.0349 - mean_squared_error: 0.0349 - val_loss: 0.0964 - val_mean_squared_error: 0.0964\n",
            "Epoch 184/200\n",
            "96/96 [==============================] - 0s 2ms/step - loss: 0.0382 - mean_squared_error: 0.0382 - val_loss: 0.0995 - val_mean_squared_error: 0.0995\n",
            "Epoch 185/200\n",
            "96/96 [==============================] - 0s 2ms/step - loss: 0.0375 - mean_squared_error: 0.0375 - val_loss: 0.0962 - val_mean_squared_error: 0.0962\n",
            "Epoch 186/200\n",
            "96/96 [==============================] - 0s 2ms/step - loss: 0.0350 - mean_squared_error: 0.0350 - val_loss: 0.1006 - val_mean_squared_error: 0.1006\n",
            "Epoch 187/200\n",
            "96/96 [==============================] - 0s 2ms/step - loss: 0.0368 - mean_squared_error: 0.0368 - val_loss: 0.0953 - val_mean_squared_error: 0.0953\n",
            "Epoch 188/200\n",
            "96/96 [==============================] - 0s 2ms/step - loss: 0.0335 - mean_squared_error: 0.0335 - val_loss: 0.0998 - val_mean_squared_error: 0.0998\n",
            "Epoch 189/200\n",
            "96/96 [==============================] - 0s 2ms/step - loss: 0.0321 - mean_squared_error: 0.0321 - val_loss: 0.1026 - val_mean_squared_error: 0.1026\n",
            "Epoch 190/200\n",
            "96/96 [==============================] - 0s 2ms/step - loss: 0.0301 - mean_squared_error: 0.0301 - val_loss: 0.1021 - val_mean_squared_error: 0.1021\n",
            "Epoch 191/200\n",
            "96/96 [==============================] - 0s 2ms/step - loss: 0.0289 - mean_squared_error: 0.0289 - val_loss: 0.1111 - val_mean_squared_error: 0.1111\n",
            "Epoch 192/200\n",
            "96/96 [==============================] - 0s 2ms/step - loss: 0.0300 - mean_squared_error: 0.0300 - val_loss: 0.1087 - val_mean_squared_error: 0.1087\n",
            "Epoch 193/200\n",
            "96/96 [==============================] - 0s 2ms/step - loss: 0.0274 - mean_squared_error: 0.0274 - val_loss: 0.1010 - val_mean_squared_error: 0.1010\n",
            "Epoch 194/200\n",
            "96/96 [==============================] - 0s 2ms/step - loss: 0.0269 - mean_squared_error: 0.0269 - val_loss: 0.1048 - val_mean_squared_error: 0.1048\n",
            "Epoch 195/200\n",
            "96/96 [==============================] - 0s 2ms/step - loss: 0.0300 - mean_squared_error: 0.0300 - val_loss: 0.1128 - val_mean_squared_error: 0.1128\n",
            "Epoch 196/200\n",
            "96/96 [==============================] - 0s 2ms/step - loss: 0.0272 - mean_squared_error: 0.0272 - val_loss: 0.1081 - val_mean_squared_error: 0.1081\n",
            "Epoch 197/200\n",
            "96/96 [==============================] - 0s 2ms/step - loss: 0.0256 - mean_squared_error: 0.0256 - val_loss: 0.1044 - val_mean_squared_error: 0.1044\n",
            "Epoch 198/200\n",
            "96/96 [==============================] - 0s 2ms/step - loss: 0.0249 - mean_squared_error: 0.0249 - val_loss: 0.1041 - val_mean_squared_error: 0.1041\n",
            "Epoch 199/200\n",
            "96/96 [==============================] - 0s 2ms/step - loss: 0.0238 - mean_squared_error: 0.0238 - val_loss: 0.1084 - val_mean_squared_error: 0.1084\n",
            "Epoch 200/200\n",
            "96/96 [==============================] - 0s 2ms/step - loss: 0.0238 - mean_squared_error: 0.0238 - val_loss: 0.1141 - val_mean_squared_error: 0.1141\n"
          ],
          "name": "stdout"
        }
      ]
    },
    {
      "metadata": {
        "id": "JyvcLQv3vSBb",
        "colab_type": "code",
        "colab": {}
      },
      "cell_type": "code",
      "source": [
        ""
      ],
      "execution_count": 0,
      "outputs": []
    }
  ]
}